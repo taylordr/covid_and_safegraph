{
 "cells": [
  {
   "cell_type": "markdown",
   "metadata": {},
   "source": [
    "# Study Johns Hopkins COVID-19 Data\n",
    "## Dane Taylor, September 10, 2020\n"
   ]
  },
  {
   "cell_type": "code",
   "execution_count": 1,
   "metadata": {},
   "outputs": [
    {
     "name": "stdout",
     "output_type": "stream",
     "text": [
      "Populating the interactive namespace from numpy and matplotlib\n"
     ]
    }
   ],
   "source": [
    "%pylab inline\n",
    "import requests\n",
    "import pandas as pd"
   ]
  },
  {
   "cell_type": "markdown",
   "metadata": {},
   "source": [
    "## Download most recent COVID-19 Case Data from https://github.com/CSSEGISandData/COVID-19. \n",
    "See also https://coronavirus.jhu.edu/map.html. \n",
    " "
   ]
  },
  {
   "cell_type": "code",
   "execution_count": 2,
   "metadata": {},
   "outputs": [],
   "source": [
    "def download_current_data(filenames):\n",
    "    \"\"\"\n",
    "    Download the Johns Hopkins data that contains all cases for all counties for all dates.\n",
    "\n",
    "    Args:\n",
    "        the filenames for the confirmed case dataset and the deaths datasets.\n",
    "\n",
    "    Returns:\n",
    "        County_Names: A list of strings containing the county names\n",
    "        counts: A 2D numpy array in which entry (i,t) gives the cumulative number of COVID cases in county i up to day t\n",
    "                The first day is Jan. 22, 2020\n",
    "                The last day is Sep. 9, 2020\n",
    "    \"\"\"\n",
    "    \n",
    "    COVID_case_types = ['confirmed','deaths']\n",
    "\n",
    "    urls = {'confirmed':'https://raw.githubusercontent.com/CSSEGISandData/COVID-19/master/csse_covid_19_data/csse_covid_19_time_series/time_series_covid19_confirmed_US.csv',\n",
    "            'deaths':'https://raw.githubusercontent.com/CSSEGISandData/COVID-19/master/csse_covid_19_data/csse_covid_19_time_series/time_series_covid19_deaths_US.csv'\n",
    "           }\n",
    "    \n",
    "    for COVID_case_type in COVID_case_types:\n",
    "        r = requests.get(urls[COVID_case_type], allow_redirects=True)\n",
    "        open(filenames[COVID_case_type], 'wb').write(r.content)\n"
   ]
  },
  {
   "cell_type": "code",
   "execution_count": 3,
   "metadata": {},
   "outputs": [],
   "source": [
    "# Download both the confirmed cases and deaths\n",
    "filenames = {'confirmed':'time_series_covid19_confirmed_US_NEW.csv',\n",
    "                 'deaths':'time_series_covid19_deaths_US_NEW.csv'}"
   ]
  },
  {
   "cell_type": "code",
   "execution_count": 4,
   "metadata": {},
   "outputs": [],
   "source": [
    "# Change redownload_data to False if you don't want to redownload over and over.\n",
    "redownload_data = False\n",
    "if redownload_data:\n",
    "    download_current_data(filenames)"
   ]
  },
  {
   "cell_type": "markdown",
   "metadata": {},
   "source": [
    "### We will only study confirmed cases, not deaths here"
   ]
  },
  {
   "cell_type": "code",
   "execution_count": 5,
   "metadata": {},
   "outputs": [
    {
     "data": {
      "text/html": [
       "<div>\n",
       "<style scoped>\n",
       "    .dataframe tbody tr th:only-of-type {\n",
       "        vertical-align: middle;\n",
       "    }\n",
       "\n",
       "    .dataframe tbody tr th {\n",
       "        vertical-align: top;\n",
       "    }\n",
       "\n",
       "    .dataframe thead th {\n",
       "        text-align: right;\n",
       "    }\n",
       "</style>\n",
       "<table border=\"1\" class=\"dataframe\">\n",
       "  <thead>\n",
       "    <tr style=\"text-align: right;\">\n",
       "      <th></th>\n",
       "      <th>UID</th>\n",
       "      <th>iso2</th>\n",
       "      <th>iso3</th>\n",
       "      <th>code3</th>\n",
       "      <th>FIPS</th>\n",
       "      <th>Admin2</th>\n",
       "      <th>Province_State</th>\n",
       "      <th>Country_Region</th>\n",
       "      <th>Lat</th>\n",
       "      <th>Long_</th>\n",
       "      <th>...</th>\n",
       "      <th>8/31/20</th>\n",
       "      <th>9/1/20</th>\n",
       "      <th>9/2/20</th>\n",
       "      <th>9/3/20</th>\n",
       "      <th>9/4/20</th>\n",
       "      <th>9/5/20</th>\n",
       "      <th>9/6/20</th>\n",
       "      <th>9/7/20</th>\n",
       "      <th>9/8/20</th>\n",
       "      <th>9/9/20</th>\n",
       "    </tr>\n",
       "    <tr>\n",
       "      <th>Combined_Key</th>\n",
       "      <th></th>\n",
       "      <th></th>\n",
       "      <th></th>\n",
       "      <th></th>\n",
       "      <th></th>\n",
       "      <th></th>\n",
       "      <th></th>\n",
       "      <th></th>\n",
       "      <th></th>\n",
       "      <th></th>\n",
       "      <th></th>\n",
       "      <th></th>\n",
       "      <th></th>\n",
       "      <th></th>\n",
       "      <th></th>\n",
       "      <th></th>\n",
       "      <th></th>\n",
       "      <th></th>\n",
       "      <th></th>\n",
       "      <th></th>\n",
       "      <th></th>\n",
       "    </tr>\n",
       "  </thead>\n",
       "  <tbody>\n",
       "    <tr>\n",
       "      <th>Autauga, Alabama, US</th>\n",
       "      <td>84001001</td>\n",
       "      <td>US</td>\n",
       "      <td>USA</td>\n",
       "      <td>840</td>\n",
       "      <td>1001.0</td>\n",
       "      <td>Autauga</td>\n",
       "      <td>Alabama</td>\n",
       "      <td>US</td>\n",
       "      <td>32.539527</td>\n",
       "      <td>-86.644082</td>\n",
       "      <td>...</td>\n",
       "      <td>1348</td>\n",
       "      <td>1354</td>\n",
       "      <td>1345</td>\n",
       "      <td>1349</td>\n",
       "      <td>1355</td>\n",
       "      <td>1371</td>\n",
       "      <td>1377</td>\n",
       "      <td>1383</td>\n",
       "      <td>1385</td>\n",
       "      <td>1398</td>\n",
       "    </tr>\n",
       "    <tr>\n",
       "      <th>Baldwin, Alabama, US</th>\n",
       "      <td>84001003</td>\n",
       "      <td>US</td>\n",
       "      <td>USA</td>\n",
       "      <td>840</td>\n",
       "      <td>1003.0</td>\n",
       "      <td>Baldwin</td>\n",
       "      <td>Alabama</td>\n",
       "      <td>US</td>\n",
       "      <td>30.727750</td>\n",
       "      <td>-87.722071</td>\n",
       "      <td>...</td>\n",
       "      <td>4422</td>\n",
       "      <td>4445</td>\n",
       "      <td>4458</td>\n",
       "      <td>4495</td>\n",
       "      <td>4513</td>\n",
       "      <td>4542</td>\n",
       "      <td>4569</td>\n",
       "      <td>4586</td>\n",
       "      <td>4609</td>\n",
       "      <td>4639</td>\n",
       "    </tr>\n",
       "    <tr>\n",
       "      <th>Barbour, Alabama, US</th>\n",
       "      <td>84001005</td>\n",
       "      <td>US</td>\n",
       "      <td>USA</td>\n",
       "      <td>840</td>\n",
       "      <td>1005.0</td>\n",
       "      <td>Barbour</td>\n",
       "      <td>Alabama</td>\n",
       "      <td>US</td>\n",
       "      <td>31.868263</td>\n",
       "      <td>-85.387129</td>\n",
       "      <td>...</td>\n",
       "      <td>628</td>\n",
       "      <td>629</td>\n",
       "      <td>617</td>\n",
       "      <td>614</td>\n",
       "      <td>616</td>\n",
       "      <td>616</td>\n",
       "      <td>616</td>\n",
       "      <td>617</td>\n",
       "      <td>617</td>\n",
       "      <td>618</td>\n",
       "    </tr>\n",
       "    <tr>\n",
       "      <th>Bibb, Alabama, US</th>\n",
       "      <td>84001007</td>\n",
       "      <td>US</td>\n",
       "      <td>USA</td>\n",
       "      <td>840</td>\n",
       "      <td>1007.0</td>\n",
       "      <td>Bibb</td>\n",
       "      <td>Alabama</td>\n",
       "      <td>US</td>\n",
       "      <td>32.996421</td>\n",
       "      <td>-87.125115</td>\n",
       "      <td>...</td>\n",
       "      <td>535</td>\n",
       "      <td>538</td>\n",
       "      <td>541</td>\n",
       "      <td>542</td>\n",
       "      <td>545</td>\n",
       "      <td>550</td>\n",
       "      <td>555</td>\n",
       "      <td>557</td>\n",
       "      <td>562</td>\n",
       "      <td>564</td>\n",
       "    </tr>\n",
       "    <tr>\n",
       "      <th>Blount, Alabama, US</th>\n",
       "      <td>84001009</td>\n",
       "      <td>US</td>\n",
       "      <td>USA</td>\n",
       "      <td>840</td>\n",
       "      <td>1009.0</td>\n",
       "      <td>Blount</td>\n",
       "      <td>Alabama</td>\n",
       "      <td>US</td>\n",
       "      <td>33.982109</td>\n",
       "      <td>-86.567906</td>\n",
       "      <td>...</td>\n",
       "      <td>1034</td>\n",
       "      <td>1045</td>\n",
       "      <td>1036</td>\n",
       "      <td>1037</td>\n",
       "      <td>1049</td>\n",
       "      <td>1062</td>\n",
       "      <td>1065</td>\n",
       "      <td>1070</td>\n",
       "      <td>1071</td>\n",
       "      <td>1082</td>\n",
       "    </tr>\n",
       "  </tbody>\n",
       "</table>\n",
       "<p>5 rows × 242 columns</p>\n",
       "</div>"
      ],
      "text/plain": [
       "                           UID iso2 iso3  code3    FIPS   Admin2  \\\n",
       "Combined_Key                                                       \n",
       "Autauga, Alabama, US  84001001   US  USA    840  1001.0  Autauga   \n",
       "Baldwin, Alabama, US  84001003   US  USA    840  1003.0  Baldwin   \n",
       "Barbour, Alabama, US  84001005   US  USA    840  1005.0  Barbour   \n",
       "Bibb, Alabama, US     84001007   US  USA    840  1007.0     Bibb   \n",
       "Blount, Alabama, US   84001009   US  USA    840  1009.0   Blount   \n",
       "\n",
       "                     Province_State Country_Region        Lat      Long_  ...  \\\n",
       "Combined_Key                                                              ...   \n",
       "Autauga, Alabama, US        Alabama             US  32.539527 -86.644082  ...   \n",
       "Baldwin, Alabama, US        Alabama             US  30.727750 -87.722071  ...   \n",
       "Barbour, Alabama, US        Alabama             US  31.868263 -85.387129  ...   \n",
       "Bibb, Alabama, US           Alabama             US  32.996421 -87.125115  ...   \n",
       "Blount, Alabama, US         Alabama             US  33.982109 -86.567906  ...   \n",
       "\n",
       "                      8/31/20  9/1/20  9/2/20  9/3/20  9/4/20  9/5/20  9/6/20  \\\n",
       "Combined_Key                                                                    \n",
       "Autauga, Alabama, US     1348    1354    1345    1349    1355    1371    1377   \n",
       "Baldwin, Alabama, US     4422    4445    4458    4495    4513    4542    4569   \n",
       "Barbour, Alabama, US      628     629     617     614     616     616     616   \n",
       "Bibb, Alabama, US         535     538     541     542     545     550     555   \n",
       "Blount, Alabama, US      1034    1045    1036    1037    1049    1062    1065   \n",
       "\n",
       "                      9/7/20  9/8/20  9/9/20  \n",
       "Combined_Key                                  \n",
       "Autauga, Alabama, US    1383    1385    1398  \n",
       "Baldwin, Alabama, US    4586    4609    4639  \n",
       "Barbour, Alabama, US     617     617     618  \n",
       "Bibb, Alabama, US        557     562     564  \n",
       "Blount, Alabama, US     1070    1071    1082  \n",
       "\n",
       "[5 rows x 242 columns]"
      ]
     },
     "execution_count": 5,
     "metadata": {},
     "output_type": "execute_result"
    }
   ],
   "source": [
    "df = pd.read_csv(filenames['confirmed'])\n",
    "df = df.set_index('Combined_Key') #df.loc[0] # show the data frame\n",
    "df.head()"
   ]
  },
  {
   "cell_type": "markdown",
   "metadata": {},
   "source": [
    "# Note that the counties have FIPS codes, but I didn't use that"
   ]
  },
  {
   "cell_type": "code",
   "execution_count": null,
   "metadata": {},
   "outputs": [],
   "source": []
  },
  {
   "cell_type": "code",
   "execution_count": 6,
   "metadata": {},
   "outputs": [],
   "source": [
    "def get_state_county_data(Province_State,df):\n",
    "    \"\"\"\n",
    "    For a given state, extract the counts into a 2D numpy array.\n",
    "\n",
    "    Args:\n",
    "        Province_State (string): A name of a state or province. (e.g., 'New York')\n",
    "        df: A pandas dataframe that contains the COVID data\n",
    "\n",
    "    Returns:\n",
    "        county_names: A list of strings containing the county names\n",
    "        county_counts: A 2D numpy array in which entry (i,t) gives the number of COVID cases in county i UP TO day t\n",
    "                The first day is Jan. 22, 2020\n",
    "                The last day is Sep. 9, 2020\n",
    "    \"\"\"\n",
    "    \n",
    "    County_Data = df.loc[df['Province_State'] == Province_State]\n",
    "    cols_to_delete = ['UID', 'iso2','iso3','code3','FIPS','Admin2','Province_State','Country_Region','Lat','Long_']\n",
    "    County_Data = County_Data.drop(columns=cols_to_delete)\n",
    "    county_names = County_Data.index\n",
    "    county_names = [ name.split(',')[0] for name in county_names]\n",
    "    county_counts = County_Data.to_numpy()\n",
    "    return county_names,county_counts"
   ]
  },
  {
   "cell_type": "markdown",
   "metadata": {},
   "source": [
    "### Study cases in NY State for example"
   ]
  },
  {
   "cell_type": "code",
   "execution_count": 7,
   "metadata": {},
   "outputs": [
    {
     "name": "stdout",
     "output_type": "stream",
     "text": [
      "['Albany', 'Allegany', 'Bronx', 'Broome', 'Cattaraugus', 'Cayuga', 'Chautauqua', 'Chemung', 'Chenango', 'Clinton', 'Columbia', 'Cortland', 'Delaware', 'Dutchess', 'Erie', 'Essex', 'Franklin', 'Fulton', 'Genesee', 'Greene', 'Hamilton', 'Herkimer', 'Jefferson', 'Kings', 'Lewis', 'Livingston', 'Madison', 'Monroe', 'Montgomery', 'Nassau', 'New York', 'Niagara', 'Oneida', 'Onondaga', 'Ontario', 'Orange', 'Orleans', 'Oswego', 'Otsego', 'Out of NY', 'Putnam', 'Queens', 'Rensselaer', 'Richmond', 'Rockland', 'Saratoga', 'Schenectady', 'Schoharie', 'Schuyler', 'Seneca', 'St. Lawrence', 'Steuben', 'Suffolk', 'Sullivan', 'Tioga', 'Tompkins', 'Ulster', 'Unassigned', 'Warren', 'Washington', 'Wayne', 'Westchester', 'Wyoming', 'Yates']\n"
     ]
    }
   ],
   "source": [
    "Province_State = 'New York'\n",
    "county_names,county_counts = get_state_county_data(Province_State,df);\n",
    "print(county_names)"
   ]
  },
  {
   "cell_type": "code",
   "execution_count": 8,
   "metadata": {},
   "outputs": [
    {
     "data": {
      "image/png": "[encoded data removed]",
      "text/plain": [
       "<Figure size 432x288 with 1 Axes>"
      ]
     },
     "metadata": {
      "needs_background": "light"
     },
     "output_type": "display_data"
    }
   ],
   "source": [
    "plt.semilogy(county_counts[:10].T)\n",
    "plt.xlabel('days from Jan. 22 until Sep. 9, 2020')\n",
    "plt.ylabel('number infected');    \n",
    "plt.title('COVID-19 in a few New York Counties');\n",
    "plt.legend(county_names[:10]);"
   ]
  },
  {
   "cell_type": "markdown",
   "metadata": {},
   "source": [
    "Note that the data is the cumulative counts. We can get the new daily counts by:"
   ]
  },
  {
   "cell_type": "code",
   "execution_count": 9,
   "metadata": {},
   "outputs": [
    {
     "data": {
      "image/png": "[encoded data removed]",
      "text/plain": [
       "<Figure size 432x288 with 1 Axes>"
      ]
     },
     "metadata": {
      "needs_background": "light"
     },
     "output_type": "display_data"
    }
   ],
   "source": [
    "daily_NY_county_cases = county_counts[:,1:]-county_counts[:,0:-1]\n",
    "Erie_county = 14    \n",
    "plt.plot(daily_NY_county_cases[Erie_county],'k',linewidth=2);\n",
    "plt.xlabel('days from Jan. 22 until Sep. 9, 2020')\n",
    "plt.ylabel('number infected');    \n",
    "plt.title('COVID-19 in Erie County');"
   ]
  },
  {
   "cell_type": "code",
   "execution_count": null,
   "metadata": {},
   "outputs": [],
   "source": []
  },
  {
   "cell_type": "markdown",
   "metadata": {},
   "source": [
    "## Let's aggregate across the states, focusing on the 50 states"
   ]
  },
  {
   "cell_type": "code",
   "execution_count": 10,
   "metadata": {},
   "outputs": [],
   "source": [
    "def get_counts_for_a_state_(Province_State,df):\n",
    "    \"\"\"\n",
    "    For a given state, extract its daily counts into a numpy array.\n",
    "\n",
    "    Args:\n",
    "        Province_State (string): A name of a state or province. (e.g., 'New York')\n",
    "        df: A pandas dataframe that contains the COVID data\n",
    "\n",
    "    Returns:\n",
    "        state_counts: A 1D numpy array in which entry t gives the cumulative number of COVID cases in that state up to day t \n",
    "                The first day is Jan. 22, 2020\n",
    "                The last day is Sep. 9, 2020\n",
    "    \"\"\"\n",
    "    county_names,county_counts = get_state_county_data(Province_State,df);\n",
    "    state_counts = np.sum(county_counts,0)\n",
    "    return state_counts"
   ]
  },
  {
   "cell_type": "code",
   "execution_count": 11,
   "metadata": {},
   "outputs": [
    {
     "name": "stdout",
     "output_type": "stream",
     "text": [
      "['Alabama', 'Alaska', 'Arizona', 'Arkansas', 'California', 'Colorado', 'Connecticut', 'Delaware', 'Florida', 'Georgia', 'Hawaii', 'Idaho', 'Illinois', 'Indiana', 'Iowa', 'Kansas', 'Kentucky', 'Louisiana', 'Maine', 'Maryland', 'Massachusetts', 'Michigan', 'Minnesota', 'Mississippi', 'Missouri', 'Montana', 'Nebraska', 'Nevada', 'New Hampshire', 'New Jersey', 'New Mexico', 'New York', 'North Carolina', 'North Dakota', 'Ohio', 'Oklahoma', 'Oregon', 'Pennsylvania', 'Rhode Island', 'South Carolina', 'South Dakota', 'Tennessee', 'Texas', 'Utah', 'Vermont', 'Virginia', 'Washington', 'West Virginia', 'Wisconsin', 'Wyoming']\n"
     ]
    }
   ],
   "source": [
    "def get_list_of_50states(df):\n",
    "    state_names = list(unique(df['Province_State']))\n",
    "    state_names.remove('American Samoa')\n",
    "    state_names.remove('Diamond Princess')\n",
    "    state_names.remove('District of Columbia')\n",
    "    state_names.remove('Guam')\n",
    "    state_names.remove('Virgin Islands')\n",
    "    state_names.remove('Northern Mariana Islands')\n",
    "    state_names.remove('Grand Princess')\n",
    "    state_names.remove('Puerto Rico')\n",
    "    return state_names\n",
    "state_names = get_list_of_50states(df)\n",
    "print(state_names)"
   ]
  },
  {
   "cell_type": "code",
   "execution_count": 14,
   "metadata": {},
   "outputs": [],
   "source": [
    "def get_counts_all_states(df,state_names):\n",
    "    _,county_counts = get_state_county_data('New York',df);\n",
    "    total_days = shape(county_counts)[1]\n",
    "    state_counts = np.zeros((len(state_names),total_days))\n",
    "    for t,Province_State in enumerate(state_names):\n",
    "        state_counts[t,:] = get_counts_for_a_state_(Province_State,df)\n",
    "    \n",
    "    return state_counts"
   ]
  },
  {
   "cell_type": "code",
   "execution_count": 15,
   "metadata": {},
   "outputs": [],
   "source": [
    "state_counts = get_counts_all_states(df,state_names)"
   ]
  },
  {
   "cell_type": "code",
   "execution_count": 16,
   "metadata": {},
   "outputs": [
    {
     "data": {
      "text/plain": [
       "<matplotlib.legend.Legend at 0x123516910>"
      ]
     },
     "execution_count": 16,
     "metadata": {},
     "output_type": "execute_result"
    },
    {
     "data": {
      "image/png": "[encoded data removed]",
      "text/plain": [
       "<Figure size 432x288 with 1 Axes>"
      ]
     },
     "metadata": {
      "needs_background": "light"
     },
     "output_type": "display_data"
    }
   ],
   "source": [
    "plt.plot(state_counts[:10].T)\n",
    "plt.xlabel('days from Jan. 22 until Sep. 9, 2020')\n",
    "plt.ylabel('number infected');    \n",
    "plt.title('COVID-19 in a few States');\n",
    "plt.legend(state_names[:10])"
   ]
  },
  {
   "cell_type": "code",
   "execution_count": 17,
   "metadata": {},
   "outputs": [
    {
     "data": {
      "text/plain": [
       "(50, 232)"
      ]
     },
     "execution_count": 17,
     "metadata": {},
     "output_type": "execute_result"
    }
   ],
   "source": [
    "shape(state_counts)"
   ]
  },
  {
   "cell_type": "code",
   "execution_count": null,
   "metadata": {},
   "outputs": [],
   "source": []
  }
 ],
 "metadata": {
  "kernelspec": {
   "display_name": "Python 3",
   "language": "python",
   "name": "python3"
  },
  "language_info": {
   "codemirror_mode": {
    "name": "ipython",
    "version": 3
   },
   "file_extension": ".py",
   "mimetype": "text/x-python",
   "name": "python",
   "nbconvert_exporter": "python",
   "pygments_lexer": "ipython3",
   "version": "3.7.6"
  },
  "latex_envs": {
   "LaTeX_envs_menu_present": true,
   "autoclose": false,
   "autocomplete": true,
   "bibliofile": "biblio.bib",
   "cite_by": "apalike",
   "current_citInitial": 1,
   "eqLabelWithNumbers": true,
   "eqNumInitial": 1,
   "hotkeys": {
    "equation": "Ctrl-E",
    "itemize": "Ctrl-I"
   },
   "labels_anchors": false,
   "latex_user_defs": false,
   "report_style_numbering": false,
   "user_envs_cfg": false
  }
 },
 "nbformat": 4,
 "nbformat_minor": 2
}
